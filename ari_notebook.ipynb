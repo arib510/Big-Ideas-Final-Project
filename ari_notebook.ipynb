{
 "cells": [
  {
   "cell_type": "code",
   "execution_count": 1,
   "metadata": {},
   "outputs": [],
   "source": [
    "import pandas as pd"
   ]
  },
  {
   "cell_type": "code",
   "execution_count": 2,
   "metadata": {},
   "outputs": [
    {
     "data": {
      "text/plain": [
       "INCIDENTNEIGHBORHOOD\n",
       "Mt. Oliver Neighborhood     2\n",
       "Troy Hill-Herrs Island      6\n",
       "Mt. Oliver Boro            12\n",
       "Ridgemont                  13\n",
       "Regent Square              19\n",
       "Name: PK, dtype: int64"
      ]
     },
     "execution_count": 2,
     "metadata": {},
     "output_type": "execute_result"
    }
   ],
   "source": [
    "arrests = pd.read_csv(\"arrests.csv\")\n",
    "arrest_count = arrests.groupby(\"INCIDENTNEIGHBORHOOD\").count()[\"PK\"]\n",
    "arrest_count = arrest_count.sort_values(ascending = True)\n",
    "arrest_count.head()"
   ]
  },
  {
   "cell_type": "code",
   "execution_count": 4,
   "metadata": {},
   "outputs": [
    {
     "data": {
      "text/plain": [
       "neighborhood\n",
       "Mount Oliver Borough           4\n",
       "Regent Square                  6\n",
       "East Carnegie                  6\n",
       "Mt. Oliver                     7\n",
       "Arlington Heights              9\n",
       "Oakwood                       10\n",
       "Hays                          11\n",
       "Chartiers City                11\n",
       "Swisshelm Park                11\n",
       "St. Clair                     11\n",
       "Ridgemont                     12\n",
       "Esplen                        15\n",
       "Windgap                       16\n",
       "Bon Air                       16\n",
       "Summer Hill                   16\n",
       "West End                      16\n",
       "Glen Hazel                    17\n",
       "South Shore                   18\n",
       "Fairywood                     18\n",
       "Spring Garden                 19\n",
       "New Homestead                 20\n",
       "Westwood                      21\n",
       "Duquesne Heights              23\n",
       "Polish Hill                   24\n",
       "Friendship                    25\n",
       "Morningside                   26\n",
       "California-Kirkbride          31\n",
       "Bedford Dwellings             31\n",
       "Allegheny West                32\n",
       "Chateau                       34\n",
       "                            ... \n",
       "Spring Hill-City View         80\n",
       "Greenfield                    82\n",
       "Perry North                   83\n",
       "Bluff                         87\n",
       "Allentown                     89\n",
       "North Oakland                 92\n",
       "Central Northside             94\n",
       "Squirrel Hill North           96\n",
       "Marshall-Shadeland            97\n",
       "Beltzhoover                   97\n",
       "Beechview                    101\n",
       "Larimer                      102\n",
       "Brighton Heights             105\n",
       "Knoxville                    116\n",
       "Bloomfield                   120\n",
       "East Hills                   121\n",
       "Shadyside                    125\n",
       "Brookline                    127\n",
       "Homewood South               128\n",
       "Perry South                  128\n",
       "Sheraden                     134\n",
       "Homewood North               145\n",
       "Mount Washington             145\n",
       "Lincoln-Lemington-Belmar     146\n",
       "East Liberty                 148\n",
       "Squirrel Hill South          178\n",
       "Hazelwood                    183\n",
       "South Side Flats             184\n",
       "Central Business District    186\n",
       "Carrick                      220\n",
       "Name: call_no, Length: 91, dtype: int64"
      ]
     },
     "execution_count": 4,
     "metadata": {},
     "output_type": "execute_result"
    }
   ],
   "source": [
    "fire = pd.read_csv(\"fire.csv\")\n",
    "fire_count = fire.groupby(\"neighborhood\").count()[\"call_no\"]\n",
    "fire_count = fire_count.sort_values(ascending = True)\n",
    "fire_count.head()"
   ]
  },
  {
   "cell_type": "code",
   "execution_count": null,
   "metadata": {},
   "outputs": [],
   "source": []
  }
 ],
 "metadata": {
  "kernelspec": {
   "display_name": "Python 3.7",
   "language": "python",
   "name": "python3"
  },
  "language_info": {
   "codemirror_mode": {
    "name": "ipython",
    "version": 3
   },
   "file_extension": ".py",
   "mimetype": "text/x-python",
   "name": "python",
   "nbconvert_exporter": "python",
   "pygments_lexer": "ipython3",
   "version": "3.7.0"
  }
 },
 "nbformat": 4,
 "nbformat_minor": 4
}
