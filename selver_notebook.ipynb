{
 "cells": [
  {
   "cell_type": "code",
   "execution_count": 36,
   "metadata": {},
   "outputs": [
    {
     "name": "stderr",
     "output_type": "stream",
     "text": [
      "/ihome/crc/install/python/miniconda3-3.7/lib/python3.7/site-packages/IPython/core/interactiveshell.py:2785: DtypeWarning: Columns (1) have mixed types. Specify dtype option on import or set low_memory=False.\n",
      "  interactivity=interactivity, compiler=compiler, result=result)\n"
     ]
    },
    {
     "data": {
      "text/plain": [
       "neighborhood\n",
       "Allegheny Center              46\n",
       "Allegheny West                32\n",
       "Allentown                     89\n",
       "Arlington                     39\n",
       "Arlington Heights              9\n",
       "Banksville                    49\n",
       "Bedford Dwellings             31\n",
       "Beechview                    101\n",
       "Beltzhoover                   97\n",
       "Bloomfield                   120\n",
       "Bluff                         87\n",
       "Bon Air                       16\n",
       "Brighton Heights             105\n",
       "Brookline                    127\n",
       "California-Kirkbride          31\n",
       "Carrick                      220\n",
       "Central Business District    186\n",
       "Central Lawrenceville         58\n",
       "Central Northside             94\n",
       "Central Oakland               68\n",
       "Chartiers City                11\n",
       "Chateau                       34\n",
       "Crafton Heights               66\n",
       "Crawford-Roberts              77\n",
       "Duquesne Heights              23\n",
       "East Allegheny                76\n",
       "East Carnegie                  6\n",
       "East Hills                   121\n",
       "East Liberty                 148\n",
       "Elliott                       46\n",
       "                            ... \n",
       "Perry North                   83\n",
       "Perry South                  128\n",
       "Point Breeze                  57\n",
       "Point Breeze North            35\n",
       "Polish Hill                   24\n",
       "Regent Square                  6\n",
       "Ridgemont                     12\n",
       "Shadyside                    125\n",
       "Sheraden                     134\n",
       "South Oakland                 67\n",
       "South Shore                   18\n",
       "South Side Flats             184\n",
       "South Side Slopes             71\n",
       "Spring Garden                 19\n",
       "Spring Hill-City View         80\n",
       "Squirrel Hill North           96\n",
       "Squirrel Hill South          178\n",
       "St. Clair                     11\n",
       "Stanton Heights               43\n",
       "Strip District                35\n",
       "Summer Hill                   16\n",
       "Swisshelm Park                11\n",
       "Terrace Village               70\n",
       "Troy Hill                     54\n",
       "Upper Hill                    34\n",
       "Upper Lawrenceville           35\n",
       "West End                      16\n",
       "West Oakland                  46\n",
       "Westwood                      21\n",
       "Windgap                       16\n",
       "Name: neighborhood, Length: 91, dtype: int64"
      ]
     },
     "execution_count": 36,
     "metadata": {},
     "output_type": "execute_result"
    }
   ],
   "source": [
    "import pandas as pd\n",
    "\n",
    "fires = pd.read_csv(\"fire.csv\").sort_values(\"neighborhood\").groupby(\"neighborhood\")\n",
    "trees = pd.read_csv(\"trees.csv\").sort_values(\"neighborhood\").groupby(\"neighborhood\")\n",
    "steps = pd.read_csv(\"trees.csv\").sort_values(\"neighborhood\").groupby(\"neighborhood\")\n",
    "water = pd.read_csv(\"water.csv\").sort_values(\"neighborhood\").groupby(\"neighborhood\")\n",
    "\n",
    "fires_count = fires[\"neighborhood\"].count()\n",
    "trees_count = trees[\"neighborhood\"].count()\n",
    "steps_count = steps[\"neighborhood\"].count()\n",
    "water_count = water[\"neighborhood\"].count()"
   ]
  },
  {
   "cell_type": "code",
   "execution_count": null,
   "metadata": {},
   "outputs": [],
   "source": []
  }
 ],
 "metadata": {
  "kernelspec": {
   "display_name": "Python 3.7",
   "language": "python",
   "name": "python3"
  },
  "language_info": {
   "codemirror_mode": {
    "name": "ipython",
    "version": 3
   },
   "file_extension": ".py",
   "mimetype": "text/x-python",
   "name": "python",
   "nbconvert_exporter": "python",
   "pygments_lexer": "ipython3",
   "version": "3.7.0"
  }
 },
 "nbformat": 4,
 "nbformat_minor": 4
}
