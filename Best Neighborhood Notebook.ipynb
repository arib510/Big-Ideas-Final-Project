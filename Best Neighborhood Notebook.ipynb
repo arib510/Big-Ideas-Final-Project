{
 "cells": [
  {
   "cell_type": "code",
   "execution_count": 3,
   "metadata": {},
   "outputs": [
    {
     "data": {
      "text/plain": [
       "'\\narrests = pd.read_csv(arrests.csv)\\nfires = pd.read_csv(arrests.csv)\\nsteps = pd.read_csv(steps.csv)\\ntrees = pd.read_csv(trees.csv)\\nwater_features = pd.read_csv(water.csv)'"
      ]
     },
     "execution_count": 3,
     "metadata": {},
     "output_type": "execute_result"
    }
   ],
   "source": [
    "import pandas as pd\n",
    "'''\n",
    "arrests = pd.read_csv(arrests.csv)\n",
    "fires = pd.read_csv(arrests.csv)\n",
    "steps = pd.read_csv(steps.csv)\n",
    "trees = pd.read_csv(trees.csv)\n",
    "water_features = pd.read_csv(water.csv)'''"
   ]
  },
  {
   "cell_type": "code",
   "execution_count": null,
   "metadata": {},
   "outputs": [],
   "source": []
  }
 ],
 "metadata": {
  "kernelspec": {
   "display_name": "Python 3.7",
   "language": "python",
   "name": "python3"
  },
  "language_info": {
   "codemirror_mode": {
    "name": "ipython",
    "version": 3
   },
   "file_extension": ".py",
   "mimetype": "text/x-python",
   "name": "python",
   "nbconvert_exporter": "python",
   "pygments_lexer": "ipython3",
   "version": "3.7.0"
  }
 },
 "nbformat": 4,
 "nbformat_minor": 4
}
